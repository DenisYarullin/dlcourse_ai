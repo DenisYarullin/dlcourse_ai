{
 "cells": [
  {
   "cell_type": "markdown",
   "metadata": {},
   "source": [
    "# Задание 2.1 - Нейронные сети\n",
    "\n",
    "В этом задании вы реализуете и натренируете настоящую нейроную сеть своими руками!\n",
    "\n",
    "В некотором смысле это будет расширением прошлого задания - нам нужно просто составить несколько линейных классификаторов вместе!\n",
    "\n",
    "<img src=\"https://i.redd.it/n9fgba8b0qr01.png\" alt=\"Stack_more_layers\" width=\"400px\"/>"
   ]
  },
  {
   "cell_type": "code",
   "execution_count": 1,
   "metadata": {},
   "outputs": [],
   "source": [
    "import numpy as np\n",
    "import matplotlib.pyplot as plt\n",
    "\n",
    "%matplotlib inline\n",
    "\n",
    "%load_ext autoreload\n",
    "%autoreload 2"
   ]
  },
  {
   "cell_type": "code",
   "execution_count": 3,
   "metadata": {},
   "outputs": [],
   "source": [
    "from dataset import load_svhn, random_split_train_val\n",
    "from gradient_check import check_layer_gradient, check_layer_param_gradient, check_model_gradient\n",
    "from layers import FullyConnectedLayer, ReLULayer\n",
    "from model import TwoLayerNet\n",
    "from trainer import Trainer, Dataset\n",
    "from optim import SGD, MomentumSGD\n",
    "from metrics import multiclass_accuracy"
   ]
  },
  {
   "cell_type": "markdown",
   "metadata": {},
   "source": [
    "# Загружаем данные\n",
    "\n",
    "И разделяем их на training и validation."
   ]
  },
  {
   "cell_type": "code",
   "execution_count": 4,
   "metadata": {},
   "outputs": [],
   "source": [
    "def prepare_for_neural_network(train_X, test_X):\n",
    "    train_flat = train_X.reshape(train_X.shape[0], -1).astype(np.float) / 255.0\n",
    "    test_flat = test_X.reshape(test_X.shape[0], -1).astype(np.float) / 255.0\n",
    "    \n",
    "    # Subtract mean\n",
    "    mean_image = np.mean(train_flat, axis = 0)\n",
    "    train_flat -= mean_image\n",
    "    test_flat -= mean_image\n",
    "    \n",
    "    return train_flat, test_flat\n",
    "    \n",
    "train_X, train_y, test_X, test_y = load_svhn(\"data\", max_train=10000, max_test=1000)    \n",
    "train_X, test_X = prepare_for_neural_network(train_X, test_X)\n",
    "# Split train into train and val\n",
    "train_X, train_y, val_X, val_y = random_split_train_val(train_X, train_y, num_val = 1000)"
   ]
  },
  {
   "cell_type": "markdown",
   "metadata": {},
   "source": [
    "# Как всегда, начинаем с кирпичиков\n",
    "\n",
    "Мы будем реализовывать необходимые нам слои по очереди. Каждый слой должен реализовать:\n",
    "- прямой проход (forward pass), который генерирует выход слоя по входу и запоминает необходимые данные\n",
    "- обратный проход (backward pass), который получает градиент по выходу слоя и вычисляет градиент по входу и по параметрам\n",
    "\n",
    "Начнем с ReLU, у которого параметров нет."
   ]
  },
  {
   "cell_type": "code",
   "execution_count": 5,
   "metadata": {
    "scrolled": false
   },
   "outputs": [
    {
     "name": "stdout",
     "output_type": "stream",
     "text": [
      "Gradient check passed!\n"
     ]
    }
   ],
   "source": [
    "# TODO: Implement ReLULayer layer in layers.py\n",
    "# Note: you'll need to copy implementation of the gradient_check function from the previous assignment\n",
    "\n",
    "X = np.array([[1,-2,3],\n",
    "              [-1, 2, 0.1]\n",
    "              ])\n",
    "\n",
    "assert check_layer_gradient(ReLULayer(), X)"
   ]
  },
  {
   "cell_type": "markdown",
   "metadata": {},
   "source": [
    "А теперь реализуем полносвязный слой (fully connected layer), у которого будет два массива параметров: W (weights) и B (bias).\n",
    "\n",
    "Все параметры наши слои будут использовать для параметров специальный класс `Param`, в котором будут храниться значения параметров и градиенты этих параметров, вычисляемые во время обратного прохода.\n",
    "\n",
    "Это даст возможность аккумулировать (суммировать) градиенты из разных частей функции потерь, например, из cross-entropy loss и regularization loss."
   ]
  },
  {
   "cell_type": "code",
   "execution_count": 6,
   "metadata": {},
   "outputs": [
    {
     "name": "stdout",
     "output_type": "stream",
     "text": [
      "Gradient check passed!\n",
      "Gradient check passed!\n",
      "Gradient check passed!\n"
     ]
    }
   ],
   "source": [
    "# TODO: Implement FullyConnected layer forward and backward methods\n",
    "assert check_layer_gradient(FullyConnectedLayer(3, 4), X)\n",
    "# TODO: Implement storing gradients for W and B\n",
    "assert check_layer_param_gradient(FullyConnectedLayer(3, 4), X, 'W')\n",
    "assert check_layer_param_gradient(FullyConnectedLayer(3, 4), X, 'B')"
   ]
  },
  {
   "cell_type": "markdown",
   "metadata": {},
   "source": [
    "## Создаем нейронную сеть\n",
    "\n",
    "Теперь мы реализуем простейшую нейронную сеть с двумя полносвязным слоями и нелинейностью ReLU. Реализуйте функцию `compute_loss_and_gradients`, она должна запустить прямой и обратный проход через оба слоя для вычисления градиентов.\n",
    "\n",
    "Не забудьте реализовать очистку градиентов в начале функции."
   ]
  },
  {
   "cell_type": "code",
   "execution_count": 7,
   "metadata": {},
   "outputs": [
    {
     "name": "stdout",
     "output_type": "stream",
     "text": [
      "Checking gradient for W1\n",
      "Gradient check passed!\n",
      "Checking gradient for B1\n",
      "Gradient check passed!\n",
      "Checking gradient for W2\n",
      "Gradient check passed!\n",
      "Checking gradient for B2\n",
      "Gradient check passed!\n"
     ]
    },
    {
     "data": {
      "text/plain": [
       "True"
      ]
     },
     "execution_count": 7,
     "metadata": {},
     "output_type": "execute_result"
    }
   ],
   "source": [
    "# TODO: In model.py, implement compute_loss_and_gradients function\n",
    "model = TwoLayerNet(n_input = train_X.shape[1], n_output = 10, hidden_layer_size = 3, reg = 0)\n",
    "loss = model.compute_loss_and_gradients(train_X[:2], train_y[:2])\n",
    "\n",
    "# TODO Now implement backward pass and aggregate all of the params\n",
    "check_model_gradient(model, train_X[:2], train_y[:2])"
   ]
  },
  {
   "cell_type": "markdown",
   "metadata": {},
   "source": [
    "Теперь добавьте к модели регуляризацию - она должна прибавляться к loss и делать свой вклад в градиенты."
   ]
  },
  {
   "cell_type": "code",
   "execution_count": 8,
   "metadata": {},
   "outputs": [
    {
     "name": "stdout",
     "output_type": "stream",
     "text": [
      "Checking gradient for W1\n",
      "Gradient check passed!\n",
      "Checking gradient for B1\n",
      "Gradient check passed!\n",
      "Checking gradient for W2\n",
      "Gradient check passed!\n",
      "Checking gradient for B2\n",
      "Gradient check passed!\n"
     ]
    },
    {
     "data": {
      "text/plain": [
       "True"
      ]
     },
     "execution_count": 8,
     "metadata": {},
     "output_type": "execute_result"
    }
   ],
   "source": [
    "# TODO Now implement l2 regularization in the forward and backward pass\n",
    "model_with_reg = TwoLayerNet(n_input = train_X.shape[1], n_output = 10, hidden_layer_size = 3, reg = 1e1)\n",
    "loss_with_reg = model_with_reg.compute_loss_and_gradients(train_X[:2], train_y[:2])\n",
    "assert loss_with_reg > loss and not np.isclose(loss_with_reg, loss), \\\n",
    "    \"Loss with regularization (%2.4f) should be higher than without it (%2.4f)!\" % (loss, loss_with_reg)\n",
    "\n",
    "check_model_gradient(model_with_reg, train_X[:2], train_y[:2])"
   ]
  },
  {
   "cell_type": "markdown",
   "metadata": {},
   "source": [
    "Также реализуем функцию предсказания (вычисления значения) модели на новых данных.\n",
    "\n",
    "Какое значение точности мы ожидаем увидеть до начала тренировки?"
   ]
  },
  {
   "cell_type": "code",
   "execution_count": 9,
   "metadata": {},
   "outputs": [
    {
     "data": {
      "text/plain": [
       "0.1"
      ]
     },
     "execution_count": 9,
     "metadata": {},
     "output_type": "execute_result"
    }
   ],
   "source": [
    "# Finally, implement predict function!\n",
    "\n",
    "# TODO: Implement predict function\n",
    "# What would be the value we expect?\n",
    "multiclass_accuracy(model_with_reg.predict(train_X[:30]), train_y[:30]) "
   ]
  },
  {
   "cell_type": "markdown",
   "metadata": {},
   "source": [
    "# Допишем код для процесса тренировки"
   ]
  },
  {
   "cell_type": "code",
   "execution_count": 19,
   "metadata": {},
   "outputs": [
    {
     "name": "stdout",
     "output_type": "stream",
     "text": [
      "Loss: 2.209043, Train accuracy: 0.196667, val accuracy: 0.206000\n",
      "Loss: 2.165481, Train accuracy: 0.224556, val accuracy: 0.231000\n",
      "Loss: 1.930377, Train accuracy: 0.278333, val accuracy: 0.284000\n",
      "Loss: 1.916916, Train accuracy: 0.337111, val accuracy: 0.330000\n",
      "Loss: 1.496020, Train accuracy: 0.471222, val accuracy: 0.485000\n",
      "Loss: 1.690730, Train accuracy: 0.417222, val accuracy: 0.434000\n",
      "Loss: 1.675724, Train accuracy: 0.449222, val accuracy: 0.473000\n",
      "Loss: 1.353955, Train accuracy: 0.627333, val accuracy: 0.632000\n",
      "Loss: 1.343153, Train accuracy: 0.590333, val accuracy: 0.567000\n",
      "Loss: 1.385820, Train accuracy: 0.590667, val accuracy: 0.565000\n",
      "Loss: 1.263379, Train accuracy: 0.660889, val accuracy: 0.645000\n",
      "Loss: 1.092535, Train accuracy: 0.700444, val accuracy: 0.689000\n",
      "Loss: 0.942655, Train accuracy: 0.721778, val accuracy: 0.693000\n",
      "Loss: 1.104911, Train accuracy: 0.683889, val accuracy: 0.663000\n",
      "Loss: 0.878926, Train accuracy: 0.722000, val accuracy: 0.699000\n",
      "Loss: 1.829751, Train accuracy: 0.559667, val accuracy: 0.555000\n",
      "Loss: 0.836798, Train accuracy: 0.744889, val accuracy: 0.715000\n",
      "Loss: 0.912066, Train accuracy: 0.736889, val accuracy: 0.711000\n",
      "Loss: 1.098002, Train accuracy: 0.743889, val accuracy: 0.687000\n",
      "Loss: 0.823089, Train accuracy: 0.723000, val accuracy: 0.695000\n"
     ]
    }
   ],
   "source": [
    "model = TwoLayerNet(n_input = train_X.shape[1], n_output = 10, hidden_layer_size = 100, reg = 2e-4)\n",
    "dataset = Dataset(train_X, train_y, val_X, val_y)\n",
    "trainer = Trainer(model, dataset, SGD(), learning_rate=5e-1, batch_size=200)\n",
    "\n",
    "# TODO Implement missing pieces in Trainer.fit function\n",
    "# You should expect loss to go down and train and val accuracy go up for every epoch\n",
    "loss_history, train_history, val_history = trainer.fit()"
   ]
  },
  {
   "cell_type": "code",
   "execution_count": 20,
   "metadata": {},
   "outputs": [
    {
     "data": {
      "text/plain": [
       "[<matplotlib.lines.Line2D at 0x15008500ac8>]"
      ]
     },
     "execution_count": 20,
     "metadata": {},
     "output_type": "execute_result"
    },
    {
     "data": {
      "image/png": "[encoded data removed]",
      "text/plain": [
       "<Figure size 432x288 with 1 Axes>"
      ]
     },
     "metadata": {
      "needs_background": "light"
     },
     "output_type": "display_data"
    }
   ],
   "source": [
    "plt.plot(train_history)\n",
    "plt.plot(val_history)"
   ]
  },
  {
   "cell_type": "markdown",
   "metadata": {},
   "source": [
    "# Улучшаем процесс тренировки\n",
    "\n",
    "Мы реализуем несколько ключевых оптимизаций, необходимых для тренировки современных нейросетей."
   ]
  },
  {
   "cell_type": "markdown",
   "metadata": {},
   "source": [
    "## Уменьшение скорости обучения (learning rate decay)\n",
    "\n",
    "Одна из необходимых оптимизаций во время тренировки нейронных сетей - постепенное уменьшение скорости обучения по мере тренировки.\n",
    "\n",
    "Один из стандартных методов - уменьшение скорости обучения (learning rate) каждые N эпох на коэффициент d (часто называемый decay). Значения N и d, как всегда, являются гиперпараметрами и должны подбираться на основе эффективности на проверочных данных (validation data). \n",
    "\n",
    "В нашем случае N будет равным 1."
   ]
  },
  {
   "cell_type": "code",
   "execution_count": 21,
   "metadata": {},
   "outputs": [
    {
     "name": "stdout",
     "output_type": "stream",
     "text": [
      "Loss: 2.195072, Train accuracy: 0.196667, val accuracy: 0.206000\n",
      "Loss: 2.139784, Train accuracy: 0.228111, val accuracy: 0.235000\n",
      "Loss: 2.004090, Train accuracy: 0.273667, val accuracy: 0.278000\n",
      "Loss: 1.872054, Train accuracy: 0.378889, val accuracy: 0.375000\n",
      "Loss: 1.808982, Train accuracy: 0.415111, val accuracy: 0.406000\n",
      "Loss: 1.406730, Train accuracy: 0.550111, val accuracy: 0.552000\n",
      "Loss: 1.549074, Train accuracy: 0.503889, val accuracy: 0.495000\n",
      "Loss: 1.331209, Train accuracy: 0.592000, val accuracy: 0.580000\n",
      "Loss: 1.074703, Train accuracy: 0.650222, val accuracy: 0.628000\n",
      "Loss: 1.037115, Train accuracy: 0.674333, val accuracy: 0.652000\n",
      "Loss: 1.127162, Train accuracy: 0.674000, val accuracy: 0.662000\n",
      "Loss: 1.082718, Train accuracy: 0.695111, val accuracy: 0.669000\n",
      "Loss: 1.159822, Train accuracy: 0.651000, val accuracy: 0.633000\n",
      "Loss: 0.881371, Train accuracy: 0.733333, val accuracy: 0.702000\n",
      "Loss: 0.974855, Train accuracy: 0.689333, val accuracy: 0.634000\n",
      "Loss: 0.910526, Train accuracy: 0.737000, val accuracy: 0.689000\n",
      "Loss: 0.876728, Train accuracy: 0.752333, val accuracy: 0.706000\n",
      "Loss: 0.973707, Train accuracy: 0.726889, val accuracy: 0.664000\n",
      "Loss: 0.996347, Train accuracy: 0.735667, val accuracy: 0.684000\n",
      "Loss: 0.952453, Train accuracy: 0.762222, val accuracy: 0.716000\n"
     ]
    }
   ],
   "source": [
    "# TODO Implement learning rate decay inside Trainer.fit method\n",
    "# Decay should happen once per epoch\n",
    "\n",
    "model = TwoLayerNet(n_input = train_X.shape[1], n_output = 10, hidden_layer_size = 100, reg = 2e-4)\n",
    "dataset = Dataset(train_X, train_y, val_X, val_y)\n",
    "trainer = Trainer(model, dataset, SGD(), learning_rate_decay=0.99, learning_rate=5e-1, batch_size=200)\n",
    "\n",
    "initial_learning_rate = trainer.learning_rate\n",
    "loss_history, train_history, val_history = trainer.fit()\n",
    "\n",
    "assert trainer.learning_rate < initial_learning_rate, \"Learning rate should've been reduced\"\n",
    "assert trainer.learning_rate > 0.5*initial_learning_rate, \"Learning rate shouldn'tve been reduced that much!\""
   ]
  },
  {
   "cell_type": "markdown",
   "metadata": {},
   "source": [
    "# Накопление импульса (Momentum SGD)\n",
    "\n",
    "Другой большой класс оптимизаций - использование более эффективных методов градиентного спуска. Мы реализуем один из них - накопление импульса (Momentum SGD).\n",
    "\n",
    "Этот метод хранит скорость движения, использует градиент для ее изменения на каждом шаге, и изменяет веса пропорционально значению скорости.\n",
    "(Физическая аналогия: Вместо скорости градиенты теперь будут задавать ускорение, но будет присутствовать сила трения.)\n",
    "\n",
    "```\n",
    "velocity = momentum * velocity - learning_rate * gradient \n",
    "w = w + velocity\n",
    "```\n",
    "\n",
    "`momentum` здесь коэффициент затухания, который тоже является гиперпараметром (к счастью, для него часто есть хорошее значение по умолчанию, типичный диапазон -- 0.8-0.99).\n",
    "\n",
    "Несколько полезных ссылок, где метод разбирается более подробно:  \n",
    "http://cs231n.github.io/neural-networks-3/#sgd  \n",
    "https://distill.pub/2017/momentum/"
   ]
  },
  {
   "cell_type": "code",
   "execution_count": null,
   "metadata": {},
   "outputs": [],
   "source": [
    "# TODO: Implement MomentumSGD.update function in optim.py\n",
    "\n",
    "model = TwoLayerNet(n_input = train_X.shape[1], n_output = 10, hidden_layer_size = 100, reg = 1e-1)\n",
    "dataset = Dataset(train_X, train_y, val_X, val_y)\n",
    "trainer = Trainer(model, dataset, MomentumSGD(), learning_rate=1e-4, learning_rate_decay=0.99)\n",
    "\n",
    "# You should see even better results than before!\n",
    "loss_history, train_history, val_history = trainer.fit()"
   ]
  },
  {
   "cell_type": "markdown",
   "metadata": {},
   "source": [
    "# Ну что, давайте уже тренировать сеть!"
   ]
  },
  {
   "cell_type": "markdown",
   "metadata": {},
   "source": [
    "## Последний тест - переобучимся (overfit) на маленьком наборе данных\n",
    "\n",
    "Хороший способ проверить, все ли реализовано корректно - переобучить сеть на маленьком наборе данных.  \n",
    "Наша модель обладает достаточной мощностью, чтобы приблизить маленький набор данных идеально, поэтому мы ожидаем, что на нем мы быстро дойдем до 100% точности на тренировочном наборе. \n",
    "\n",
    "Если этого не происходит, то где-то была допущена ошибка!"
   ]
  },
  {
   "cell_type": "code",
   "execution_count": 22,
   "metadata": {},
   "outputs": [
    {
     "name": "stdout",
     "output_type": "stream",
     "text": [
      "Loss: 2.310674, Train accuracy: 0.333333, val accuracy: 0.066667\n",
      "Loss: 2.267863, Train accuracy: 0.200000, val accuracy: 0.133333\n",
      "Loss: 2.230784, Train accuracy: 0.266667, val accuracy: 0.000000\n",
      "Loss: 2.182477, Train accuracy: 0.266667, val accuracy: 0.000000\n",
      "Loss: 2.007057, Train accuracy: 0.400000, val accuracy: 0.000000\n",
      "Loss: 2.232559, Train accuracy: 0.400000, val accuracy: 0.000000\n",
      "Loss: 2.232298, Train accuracy: 0.266667, val accuracy: 0.066667\n",
      "Loss: 1.732584, Train accuracy: 0.333333, val accuracy: 0.000000\n",
      "Loss: 1.437454, Train accuracy: 0.400000, val accuracy: 0.000000\n",
      "Loss: 2.038918, Train accuracy: 0.466667, val accuracy: 0.066667\n",
      "Loss: 1.643392, Train accuracy: 0.466667, val accuracy: 0.000000\n",
      "Loss: 0.999321, Train accuracy: 0.466667, val accuracy: 0.066667\n",
      "Loss: 1.889144, Train accuracy: 0.400000, val accuracy: 0.133333\n",
      "Loss: 1.065317, Train accuracy: 0.600000, val accuracy: 0.066667\n",
      "Loss: 1.493718, Train accuracy: 0.666667, val accuracy: 0.133333\n",
      "Loss: 1.391180, Train accuracy: 0.733333, val accuracy: 0.066667\n",
      "Loss: 1.634076, Train accuracy: 0.733333, val accuracy: 0.133333\n",
      "Loss: 0.968944, Train accuracy: 0.800000, val accuracy: 0.066667\n",
      "Loss: 0.464562, Train accuracy: 0.800000, val accuracy: 0.066667\n",
      "Loss: 0.579334, Train accuracy: 0.866667, val accuracy: 0.133333\n",
      "Loss: 0.556072, Train accuracy: 0.933333, val accuracy: 0.066667\n",
      "Loss: 0.081056, Train accuracy: 1.000000, val accuracy: 0.133333\n",
      "Loss: 0.318055, Train accuracy: 0.933333, val accuracy: 0.066667\n",
      "Loss: 0.135615, Train accuracy: 0.933333, val accuracy: 0.066667\n",
      "Loss: 0.078296, Train accuracy: 1.000000, val accuracy: 0.066667\n",
      "Loss: 0.218522, Train accuracy: 1.000000, val accuracy: 0.066667\n",
      "Loss: 0.359581, Train accuracy: 1.000000, val accuracy: 0.066667\n",
      "Loss: 0.238793, Train accuracy: 1.000000, val accuracy: 0.066667\n",
      "Loss: 0.119821, Train accuracy: 1.000000, val accuracy: 0.066667\n",
      "Loss: 0.146629, Train accuracy: 1.000000, val accuracy: 0.066667\n",
      "Loss: 0.048843, Train accuracy: 1.000000, val accuracy: 0.066667\n",
      "Loss: 0.040132, Train accuracy: 1.000000, val accuracy: 0.066667\n",
      "Loss: 0.055145, Train accuracy: 1.000000, val accuracy: 0.066667\n",
      "Loss: 0.038919, Train accuracy: 1.000000, val accuracy: 0.066667\n",
      "Loss: 0.058880, Train accuracy: 1.000000, val accuracy: 0.066667\n",
      "Loss: 0.032952, Train accuracy: 1.000000, val accuracy: 0.066667\n",
      "Loss: 0.063986, Train accuracy: 1.000000, val accuracy: 0.066667\n",
      "Loss: 0.030519, Train accuracy: 1.000000, val accuracy: 0.066667\n",
      "Loss: 0.023869, Train accuracy: 1.000000, val accuracy: 0.066667\n",
      "Loss: 0.041172, Train accuracy: 1.000000, val accuracy: 0.066667\n",
      "Loss: 0.042245, Train accuracy: 1.000000, val accuracy: 0.066667\n",
      "Loss: 0.019440, Train accuracy: 1.000000, val accuracy: 0.066667\n",
      "Loss: 0.024960, Train accuracy: 1.000000, val accuracy: 0.066667\n",
      "Loss: 0.015996, Train accuracy: 1.000000, val accuracy: 0.066667\n",
      "Loss: 0.016338, Train accuracy: 1.000000, val accuracy: 0.066667\n",
      "Loss: 0.018400, Train accuracy: 1.000000, val accuracy: 0.066667\n",
      "Loss: 0.022478, Train accuracy: 1.000000, val accuracy: 0.066667\n",
      "Loss: 0.023469, Train accuracy: 1.000000, val accuracy: 0.066667\n",
      "Loss: 0.010993, Train accuracy: 1.000000, val accuracy: 0.066667\n",
      "Loss: 0.013155, Train accuracy: 1.000000, val accuracy: 0.066667\n",
      "Loss: 0.012565, Train accuracy: 1.000000, val accuracy: 0.066667\n",
      "Loss: 0.016408, Train accuracy: 1.000000, val accuracy: 0.066667\n",
      "Loss: 0.013758, Train accuracy: 1.000000, val accuracy: 0.066667\n",
      "Loss: 0.016827, Train accuracy: 1.000000, val accuracy: 0.066667\n",
      "Loss: 0.012539, Train accuracy: 1.000000, val accuracy: 0.066667\n",
      "Loss: 0.016414, Train accuracy: 1.000000, val accuracy: 0.066667\n",
      "Loss: 0.017324, Train accuracy: 1.000000, val accuracy: 0.066667\n",
      "Loss: 0.018792, Train accuracy: 1.000000, val accuracy: 0.066667\n",
      "Loss: 0.013534, Train accuracy: 1.000000, val accuracy: 0.066667\n",
      "Loss: 0.018126, Train accuracy: 1.000000, val accuracy: 0.066667\n",
      "Loss: 0.014012, Train accuracy: 1.000000, val accuracy: 0.066667\n",
      "Loss: 0.019112, Train accuracy: 1.000000, val accuracy: 0.066667\n",
      "Loss: 0.017359, Train accuracy: 1.000000, val accuracy: 0.000000\n",
      "Loss: 0.011907, Train accuracy: 1.000000, val accuracy: 0.000000\n",
      "Loss: 0.011983, Train accuracy: 1.000000, val accuracy: 0.000000\n",
      "Loss: 0.014376, Train accuracy: 1.000000, val accuracy: 0.000000\n",
      "Loss: 0.018247, Train accuracy: 1.000000, val accuracy: 0.000000\n",
      "Loss: 0.010650, Train accuracy: 1.000000, val accuracy: 0.000000\n",
      "Loss: 0.014365, Train accuracy: 1.000000, val accuracy: 0.000000\n",
      "Loss: 0.010221, Train accuracy: 1.000000, val accuracy: 0.000000\n",
      "Loss: 0.015511, Train accuracy: 1.000000, val accuracy: 0.000000\n",
      "Loss: 0.012899, Train accuracy: 1.000000, val accuracy: 0.000000\n",
      "Loss: 0.009260, Train accuracy: 1.000000, val accuracy: 0.000000\n",
      "Loss: 0.017231, Train accuracy: 1.000000, val accuracy: 0.000000\n",
      "Loss: 0.012207, Train accuracy: 1.000000, val accuracy: 0.000000\n",
      "Loss: 0.012141, Train accuracy: 1.000000, val accuracy: 0.000000\n",
      "Loss: 0.012000, Train accuracy: 1.000000, val accuracy: 0.000000\n",
      "Loss: 0.009153, Train accuracy: 1.000000, val accuracy: 0.000000\n",
      "Loss: 0.010452, Train accuracy: 1.000000, val accuracy: 0.000000\n",
      "Loss: 0.013861, Train accuracy: 1.000000, val accuracy: 0.000000\n",
      "Loss: 0.009846, Train accuracy: 1.000000, val accuracy: 0.000000\n",
      "Loss: 0.008892, Train accuracy: 1.000000, val accuracy: 0.000000\n",
      "Loss: 0.010635, Train accuracy: 1.000000, val accuracy: 0.000000\n",
      "Loss: 0.014227, Train accuracy: 1.000000, val accuracy: 0.000000\n",
      "Loss: 0.014136, Train accuracy: 1.000000, val accuracy: 0.000000\n",
      "Loss: 0.011902, Train accuracy: 1.000000, val accuracy: 0.000000\n",
      "Loss: 0.010266, Train accuracy: 1.000000, val accuracy: 0.000000\n",
      "Loss: 0.012522, Train accuracy: 1.000000, val accuracy: 0.000000\n",
      "Loss: 0.007645, Train accuracy: 1.000000, val accuracy: 0.000000\n",
      "Loss: 0.008541, Train accuracy: 1.000000, val accuracy: 0.000000\n",
      "Loss: 0.010989, Train accuracy: 1.000000, val accuracy: 0.000000\n",
      "Loss: 0.008746, Train accuracy: 1.000000, val accuracy: 0.000000\n",
      "Loss: 0.009686, Train accuracy: 1.000000, val accuracy: 0.000000\n",
      "Loss: 0.011196, Train accuracy: 1.000000, val accuracy: 0.000000\n",
      "Loss: 0.007095, Train accuracy: 1.000000, val accuracy: 0.000000\n",
      "Loss: 0.010962, Train accuracy: 1.000000, val accuracy: 0.000000\n",
      "Loss: 0.010955, Train accuracy: 1.000000, val accuracy: 0.000000\n",
      "Loss: 0.009888, Train accuracy: 1.000000, val accuracy: 0.000000\n",
      "Loss: 0.009701, Train accuracy: 1.000000, val accuracy: 0.000000\n",
      "Loss: 0.010235, Train accuracy: 1.000000, val accuracy: 0.000000\n",
      "Loss: 0.008625, Train accuracy: 1.000000, val accuracy: 0.000000\n",
      "Loss: 0.011244, Train accuracy: 1.000000, val accuracy: 0.000000\n",
      "Loss: 0.008513, Train accuracy: 1.000000, val accuracy: 0.000000\n",
      "Loss: 0.010813, Train accuracy: 1.000000, val accuracy: 0.000000\n",
      "Loss: 0.009583, Train accuracy: 1.000000, val accuracy: 0.000000\n",
      "Loss: 0.008532, Train accuracy: 1.000000, val accuracy: 0.000000\n",
      "Loss: 0.010290, Train accuracy: 1.000000, val accuracy: 0.000000\n",
      "Loss: 0.010042, Train accuracy: 1.000000, val accuracy: 0.000000\n",
      "Loss: 0.008660, Train accuracy: 1.000000, val accuracy: 0.000000\n",
      "Loss: 0.007778, Train accuracy: 1.000000, val accuracy: 0.000000\n",
      "Loss: 0.009120, Train accuracy: 1.000000, val accuracy: 0.000000\n",
      "Loss: 0.008203, Train accuracy: 1.000000, val accuracy: 0.000000\n",
      "Loss: 0.007684, Train accuracy: 1.000000, val accuracy: 0.000000\n",
      "Loss: 0.009239, Train accuracy: 1.000000, val accuracy: 0.000000\n",
      "Loss: 0.007501, Train accuracy: 1.000000, val accuracy: 0.000000\n",
      "Loss: 0.009536, Train accuracy: 1.000000, val accuracy: 0.000000\n",
      "Loss: 0.007626, Train accuracy: 1.000000, val accuracy: 0.000000\n",
      "Loss: 0.009264, Train accuracy: 1.000000, val accuracy: 0.000000\n",
      "Loss: 0.007531, Train accuracy: 1.000000, val accuracy: 0.000000\n",
      "Loss: 0.008806, Train accuracy: 1.000000, val accuracy: 0.000000\n",
      "Loss: 0.008748, Train accuracy: 1.000000, val accuracy: 0.000000\n",
      "Loss: 0.008134, Train accuracy: 1.000000, val accuracy: 0.000000\n",
      "Loss: 0.008694, Train accuracy: 1.000000, val accuracy: 0.000000\n",
      "Loss: 0.008197, Train accuracy: 1.000000, val accuracy: 0.000000\n",
      "Loss: 0.008935, Train accuracy: 1.000000, val accuracy: 0.000000\n",
      "Loss: 0.008860, Train accuracy: 1.000000, val accuracy: 0.000000\n",
      "Loss: 0.008900, Train accuracy: 1.000000, val accuracy: 0.000000\n"
     ]
    },
    {
     "name": "stdout",
     "output_type": "stream",
     "text": [
      "Loss: 0.007822, Train accuracy: 1.000000, val accuracy: 0.000000\n",
      "Loss: 0.009488, Train accuracy: 1.000000, val accuracy: 0.000000\n",
      "Loss: 0.008226, Train accuracy: 1.000000, val accuracy: 0.000000\n",
      "Loss: 0.009930, Train accuracy: 1.000000, val accuracy: 0.000000\n",
      "Loss: 0.009634, Train accuracy: 1.000000, val accuracy: 0.000000\n",
      "Loss: 0.008971, Train accuracy: 1.000000, val accuracy: 0.000000\n",
      "Loss: 0.007694, Train accuracy: 1.000000, val accuracy: 0.000000\n",
      "Loss: 0.008001, Train accuracy: 1.000000, val accuracy: 0.000000\n",
      "Loss: 0.008687, Train accuracy: 1.000000, val accuracy: 0.000000\n",
      "Loss: 0.007681, Train accuracy: 1.000000, val accuracy: 0.000000\n",
      "Loss: 0.007797, Train accuracy: 1.000000, val accuracy: 0.000000\n",
      "Loss: 0.008626, Train accuracy: 1.000000, val accuracy: 0.000000\n",
      "Loss: 0.009220, Train accuracy: 1.000000, val accuracy: 0.000000\n",
      "Loss: 0.009223, Train accuracy: 1.000000, val accuracy: 0.000000\n",
      "Loss: 0.008193, Train accuracy: 1.000000, val accuracy: 0.000000\n",
      "Loss: 0.007641, Train accuracy: 1.000000, val accuracy: 0.000000\n",
      "Loss: 0.007974, Train accuracy: 1.000000, val accuracy: 0.000000\n",
      "Loss: 0.009405, Train accuracy: 1.000000, val accuracy: 0.000000\n",
      "Loss: 0.008898, Train accuracy: 1.000000, val accuracy: 0.000000\n",
      "Loss: 0.007826, Train accuracy: 1.000000, val accuracy: 0.000000\n",
      "Loss: 0.008988, Train accuracy: 1.000000, val accuracy: 0.000000\n",
      "Loss: 0.007703, Train accuracy: 1.000000, val accuracy: 0.000000\n",
      "Loss: 0.008601, Train accuracy: 1.000000, val accuracy: 0.000000\n"
     ]
    }
   ],
   "source": [
    "data_size = 15\n",
    "model = TwoLayerNet(n_input = train_X.shape[1], n_output = 10, hidden_layer_size = 100, reg = 2e-4)\n",
    "dataset = Dataset(train_X[:data_size], train_y[:data_size], val_X[:data_size], val_y[:data_size])\n",
    "trainer = Trainer(model, dataset, SGD(), learning_rate=2e-1, num_epochs=150, batch_size=5)\n",
    "\n",
    "# You should expect this to reach 1.0 training accuracy \n",
    "loss_history, train_history, val_history = trainer.fit()"
   ]
  },
  {
   "cell_type": "markdown",
   "metadata": {},
   "source": [
    "Теперь найдем гипепараметры, для которых этот процесс сходится быстрее.\n",
    "Если все реализовано корректно, то существуют параметры, при которых процесс сходится в **20** эпох или еще быстрее.\n",
    "Найдите их!"
   ]
  },
  {
   "cell_type": "code",
   "execution_count": 26,
   "metadata": {},
   "outputs": [
    {
     "name": "stdout",
     "output_type": "stream",
     "text": [
      "Loss: 2.337360, Train accuracy: 0.200000, val accuracy: 0.066667\n",
      "Loss: 2.376525, Train accuracy: 0.200000, val accuracy: 0.066667\n",
      "Loss: 2.378058, Train accuracy: 0.266667, val accuracy: 0.000000\n",
      "Loss: 2.186925, Train accuracy: 0.400000, val accuracy: 0.000000\n",
      "Loss: 2.106553, Train accuracy: 0.333333, val accuracy: 0.000000\n",
      "Loss: 2.123811, Train accuracy: 0.400000, val accuracy: 0.133333\n",
      "Loss: 2.320263, Train accuracy: 0.400000, val accuracy: 0.000000\n",
      "Loss: 2.707062, Train accuracy: 0.266667, val accuracy: 0.000000\n",
      "Loss: 1.678041, Train accuracy: 0.533333, val accuracy: 0.066667\n",
      "Loss: 1.528564, Train accuracy: 0.466667, val accuracy: 0.000000\n",
      "Loss: 2.330660, Train accuracy: 0.666667, val accuracy: 0.000000\n",
      "Loss: 1.352305, Train accuracy: 0.666667, val accuracy: 0.000000\n",
      "Loss: 0.736964, Train accuracy: 0.800000, val accuracy: 0.066667\n",
      "Loss: 1.374451, Train accuracy: 0.800000, val accuracy: 0.000000\n",
      "Loss: 1.337030, Train accuracy: 0.933333, val accuracy: 0.066667\n",
      "Loss: 0.679038, Train accuracy: 1.000000, val accuracy: 0.000000\n",
      "Loss: 0.645424, Train accuracy: 0.933333, val accuracy: 0.000000\n",
      "Loss: 0.049465, Train accuracy: 1.000000, val accuracy: 0.133333\n",
      "Loss: 0.089222, Train accuracy: 1.000000, val accuracy: 0.000000\n",
      "Loss: 0.325650, Train accuracy: 1.000000, val accuracy: 0.000000\n"
     ]
    }
   ],
   "source": [
    "# Now, tweak some hyper parameters and make it train to 1.0 accuracy in 20 epochs or less\n",
    "\n",
    "model = TwoLayerNet(n_input = train_X.shape[1], n_output = 10, hidden_layer_size = 100, reg = 2e-3)\n",
    "dataset = Dataset(train_X[:data_size], train_y[:data_size], val_X[:data_size], val_y[:data_size])\n",
    "# TODO: Change any hyperparamers or optimizators to reach training accuracy in 20 epochs\n",
    "trainer = Trainer(model, dataset, SGD(), learning_rate=2e-1, num_epochs=20, batch_size=3)\n",
    "\n",
    "loss_history, train_history, val_history = trainer.fit()"
   ]
  },
  {
   "cell_type": "markdown",
   "metadata": {},
   "source": [
    "# Итак, основное мероприятие!\n",
    "\n",
    "Натренируйте лучшую нейросеть! Можно добавлять и изменять параметры, менять количество нейронов в слоях сети и как угодно экспериментировать. \n",
    "\n",
    "Добейтесь точности лучше **40%** на validation set."
   ]
  },
  {
   "cell_type": "code",
   "execution_count": 33,
   "metadata": {
    "scrolled": true
   },
   "outputs": [
    {
     "name": "stdout",
     "output_type": "stream",
     "text": [
      "Loss: 2.264783, Train accuracy: 0.196667, val accuracy: 0.206000\n",
      "Loss: 2.141827, Train accuracy: 0.259778, val accuracy: 0.259000\n",
      "Loss: 1.716145, Train accuracy: 0.448444, val accuracy: 0.444000\n",
      "Loss: 1.459579, Train accuracy: 0.542778, val accuracy: 0.541000\n",
      "Loss: 1.333312, Train accuracy: 0.623222, val accuracy: 0.604000\n",
      "Loss: 1.453692, Train accuracy: 0.640444, val accuracy: 0.599000\n",
      "Loss: 1.217281, Train accuracy: 0.678222, val accuracy: 0.647000\n",
      "Loss: 1.235318, Train accuracy: 0.671889, val accuracy: 0.638000\n",
      "Loss: 1.179820, Train accuracy: 0.715889, val accuracy: 0.676000\n",
      "Loss: 1.139281, Train accuracy: 0.734000, val accuracy: 0.681000\n",
      "Loss: 1.040730, Train accuracy: 0.726667, val accuracy: 0.683000\n",
      "Loss: 1.105840, Train accuracy: 0.749889, val accuracy: 0.691000\n",
      "Loss: 1.261697, Train accuracy: 0.747111, val accuracy: 0.702000\n",
      "Loss: 1.063772, Train accuracy: 0.768000, val accuracy: 0.703000\n",
      "Loss: 0.978792, Train accuracy: 0.765333, val accuracy: 0.684000\n",
      "Loss: 0.971347, Train accuracy: 0.789222, val accuracy: 0.722000\n",
      "Loss: 0.906297, Train accuracy: 0.775444, val accuracy: 0.699000\n",
      "Loss: 0.902134, Train accuracy: 0.812000, val accuracy: 0.739000\n",
      "Loss: 1.011470, Train accuracy: 0.806556, val accuracy: 0.727000\n",
      "Loss: 0.937650, Train accuracy: 0.806667, val accuracy: 0.728000\n",
      "best validation accuracy achieved: 0.739000\n"
     ]
    }
   ],
   "source": [
    "# Let's train the best one-hidden-layer network we can\n",
    "\n",
    "learning_rates = 1e-1\n",
    "reg_strength = 1e-3\n",
    "learning_rate_decay = 0.99\n",
    "hidden_layer_size = 100\n",
    "num_epochs = 20\n",
    "batch_size = 200\n",
    "\n",
    "best_classifier = TwoLayerNet(n_input = train_X.shape[1], n_output = 10, hidden_layer_size=hidden_layer_size, reg = reg_strength);\n",
    "dataset = Dataset(train_X, train_y, val_X, val_y);\n",
    "trainer = Trainer(best_classifier, dataset, MomentumSGD(),  num_epochs=num_epochs, batch_size=batch_size,\n",
    "                  learning_rate=learning_rates, learning_rate_decay= learning_rate_decay);\n",
    "\n",
    "loss_history, train_history, val_history = trainer.fit();\n",
    "\n",
    "best_val_accuracy = max(val_history)\n",
    "\n",
    "# TODO find the best hyperparameters to train the network\n",
    "# Don't hesitate to add new values to the arrays above, perform experiments, use any tricks you want\n",
    "# You should expect to get to at least 40% of valudation accuracy\n",
    "# Save loss/train/history of the best classifier to the variables above\n",
    "\n",
    "print('best validation accuracy achieved: %f' % best_val_accuracy)"
   ]
  },
  {
   "cell_type": "code",
   "execution_count": 34,
   "metadata": {},
   "outputs": [
    {
     "data": {
      "text/plain": [
       "[<matplotlib.lines.Line2D at 0x15017043908>]"
      ]
     },
     "execution_count": 34,
     "metadata": {},
     "output_type": "execute_result"
    },
    {
     "data": {
      "image/png": "[encoded data removed]",
      "text/plain": [
       "<Figure size 1080x504 with 2 Axes>"
      ]
     },
     "metadata": {
      "needs_background": "light"
     },
     "output_type": "display_data"
    }
   ],
   "source": [
    "plt.figure(figsize=(15, 7))\n",
    "plt.subplot(211)\n",
    "plt.title(\"Loss\")\n",
    "plt.plot(loss_history)\n",
    "plt.subplot(212)\n",
    "plt.title(\"Train/validation accuracy\")\n",
    "plt.plot(train_history)\n",
    "plt.plot(val_history)"
   ]
  },
  {
   "cell_type": "markdown",
   "metadata": {},
   "source": [
    "# Как обычно, посмотрим, как наша лучшая модель работает на тестовых данных"
   ]
  },
  {
   "cell_type": "code",
   "execution_count": 35,
   "metadata": {},
   "outputs": [
    {
     "name": "stdout",
     "output_type": "stream",
     "text": [
      "Neural net test set accuracy: 0.700000\n"
     ]
    }
   ],
   "source": [
    "test_pred = best_classifier.predict(test_X)\n",
    "test_accuracy = multiclass_accuracy(test_pred, test_y)\n",
    "print('Neural net test set accuracy: %f' % (test_accuracy, ))"
   ]
  },
  {
   "cell_type": "code",
   "execution_count": null,
   "metadata": {},
   "outputs": [],
   "source": []
  }
 ],
 "metadata": {
  "kernelspec": {
   "display_name": "Python 3",
   "language": "python",
   "name": "python3"
  },
  "language_info": {
   "codemirror_mode": {
    "name": "ipython",
    "version": 3
   },
   "file_extension": ".py",
   "mimetype": "text/x-python",
   "name": "python",
   "nbconvert_exporter": "python",
   "pygments_lexer": "ipython3",
   "version": "3.6.8"
  }
 },
 "nbformat": 4,
 "nbformat_minor": 2
}
